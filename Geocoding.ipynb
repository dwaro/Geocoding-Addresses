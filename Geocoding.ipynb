{
 "cells": [
  {
   "cell_type": "code",
   "execution_count": 1,
   "metadata": {
    "collapsed": true
   },
   "outputs": [],
   "source": [
    "import geocoder\n",
    "import pandas as pd\n",
    "import os\n",
    "from time import sleep\n",
    "from geopy.geocoders import Nominatim\n",
    "from geopy.exc import GeocoderTimedOut"
   ]
  },
  {
   "cell_type": "code",
   "execution_count": null,
   "metadata": {
    "collapsed": true
   },
   "outputs": [],
   "source": [
    "# load in csv file to be used for df\n",
    "df = pd.read_csv('../Documents/example.csv', encoding = 'latin1', \n",
    "                index_col=['Name'])\n",
    "\n",
    "#print(df.columns.tolist())\n",
    "\n",
    "temp_streets = df['Address'].tolist()  #field in csv that holds the street address\n",
    "temp_cities = df['City'].astype(str).tolist()  #field in csv that holds the city \n",
    "temp_states = df['State'].tolist()  #field in csv that holds the state\n",
    "\n",
    "temp_list = [] # temporary list to hold concatenated addresses\n",
    "\n",
    "range_length = df.shape[0]\n",
    "range_length"
   ]
  },
  {
   "cell_type": "code",
   "execution_count": null,
   "metadata": {
    "collapsed": true
   },
   "outputs": [],
   "source": [
    "# filter out PO Boxes and other mailboxes that don't represent street address locations\n",
    "for i in range(0, range_length):\n",
    "    if pd.isnull(temp_streets[i]) == False and \"PO BOX\" not in temp_streets[i] and \"MLBX\" not in temp_streets[i]:\n",
    "        temp_list.append(temp_streets[i] + \" \" + temp_cities[i] + \", \" + temp_states[i])\n",
    "    else:\n",
    "        temp_list.append(temp_cities[i] + \", \" + temp_states[i])\n",
    "\n",
    "df['Concatenated_Addresses'] = temp_list # new field in data frame that holds combined addresses\n",
    "\n",
    "no_address = [] # will hold addresses that either didn't work with geopy or weren't complete\n",
    "latitudes = [] # will hold latitudes produced from geopy\n",
    "longitudes = [] # will hold longitudes produced from geopy\n",
    "\n",
    "# Iterate through the concatenated list of addresses and run it through Bing's location API\n",
    "# If the address is returned, assign it the respective latitude and longitudes.  If the \n",
    "# address is not found, place an X in the no_address list to later run through Google's API\n",
    "for address in temp_list:\n",
    "    geolocator = Nominatim()\n",
    "    try:\n",
    "        location = geolocator.geocode(address, timeout=10)\n",
    "        if location == None:\n",
    "            no_address.append(address)\n",
    "            latitudes.append('X')\n",
    "            longitudes.append('X')\n",
    "        else:\n",
    "            no_address.append('X')\n",
    "            latitudes.append(location.latitude)\n",
    "            longitudes.append(location.longitude)\n",
    "    except GeocoderTimedOut as e:\n",
    "        print(\"Error: geocode failed on input %s with message %s\"%(address, e.msg))\n",
    "\n",
    "print('Step 1 complete')"
   ]
  },
  {
   "cell_type": "code",
   "execution_count": null,
   "metadata": {
    "collapsed": true
   },
   "outputs": [],
   "source": [
    "needs_geocode_2 = [] # list of addresses that need to be run through Google's location API\n",
    "google_geocoded = [] # list of addresses that were found in Google's API\n",
    "coordinates = [] # list of coordinates for the found addresses\n",
    "\n",
    "# check the list of addresses previously run and add addresses to needs_geocode_2 if they need\n",
    "# to be run through Google's location API\n",
    "for address in no_address:\n",
    "    if address != 'X':\n",
    "        needs_geocode_2.append(address)\n",
    "    else:\n",
    "        needs_geocode_2.append('X')\n",
    "\n",
    "# run the faulty addresses through Google's location API.  Make sure to set the timeout to at \n",
    "# least 5, otherwise you'll exceed search rates and the process will quit\n",
    "for address in needs_geocode_2:\n",
    "    if address != 'X':\n",
    "        google_geocoded.append(geocoder.google(address, timeout=10))\n",
    "    else:\n",
    "        google_geocoded.append('X')\n",
    "\n",
    "# add the coordinates of the returned addresses from Google to the coordinates list\n",
    "for place in google_geocoded:\n",
    "    if place != 'X':\n",
    "        try:\n",
    "            coordinates.append(place.latlng)\n",
    "        except:\n",
    "            coordinates.append('X')\n",
    "    else:\n",
    "        coordinates.append('X')\n",
    "\n",
    "print(coordinates)"
   ]
  },
  {
   "cell_type": "code",
   "execution_count": null,
   "metadata": {
    "collapsed": true
   },
   "outputs": [],
   "source": [
    "new_latitudes = [] # list will hold new latitudes for combined Bing and Google geocoded addresses\n",
    "new_longitudes = [] # list will hold new longitudes for combined Bing and Google addresses\n",
    "\n",
    "# if there are any X's left over in the lists, the associated addresses was not found through \n",
    "# Bing or Google.  If there isn't an X place holder, add the new lat or long to their respective\n",
    "# lists.\n",
    "for i in range(0, range_length):\n",
    "    if latitudes[i] != 'X':\n",
    "        new_latitudes.append(latitudes[i])\n",
    "        new_longitudes.append(longitudes[i])\n",
    "    elif len(coordinates[i]) == 0:\n",
    "        new_latitudes.append('X')\n",
    "        new_longitudes.append('X')\n",
    "    else:\n",
    "        new_latitudes.append(coordinates[i][0])\n",
    "        new_longitudes.append(coordinates[i][1])\n",
    "        \n",
    "print(new_latitudes)\n",
    "print('\\n' + '\\n')\n",
    "print(new_longitudes)\n",
    "\n",
    "df['Latitude'] = new_latitudes # add new Latitude field to dataframe\n",
    "df['Longitude'] = new_longitudes # add new Longitude field to dataframe\n",
    "\n",
    "df.to_csv('../Documents/example.csv')"
   ]
  }
 ],
 "metadata": {
  "kernelspec": {
   "display_name": "Python 2",
   "language": "python",
   "name": "python2"
  },
  "language_info": {
   "codemirror_mode": {
    "name": "ipython",
    "version": 2
   },
   "file_extension": ".py",
   "mimetype": "text/x-python",
   "name": "python",
   "nbconvert_exporter": "python",
   "pygments_lexer": "ipython2",
   "version": "2.7.13"
  }
 },
 "nbformat": 4,
 "nbformat_minor": 2
}
